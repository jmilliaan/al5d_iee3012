{
 "cells": [
  {
   "cell_type": "markdown",
   "metadata": {},
   "source": [
    "# Panda Example"
   ]
  },
  {
   "cell_type": "code",
   "execution_count": 5,
   "metadata": {
    "scrolled": true
   },
   "outputs": [
    {
     "name": "stdout",
     "output_type": "stream",
     "text": [
      "The autoreload extension is already loaded. To reload it, use:\n",
      "  %reload_ext autoreload\n"
     ]
    }
   ],
   "source": [
    "import sys\n",
    "sys.path.append('lib')\n",
    "\n",
    "import scipy\n",
    "import matplotlib.pyplot as plt\n",
    "import numpy as np\n",
    "import time, os\n",
    "from IPython.display import clear_output\n",
    "\n",
    "import pybullet as p\n",
    "import pybullet_data\n",
    "\n",
    "from pb_utils import set_q, vis_traj, create_primitives, get_joint_limits\n",
    "from motion_planning import sampler, col_checker, interpolator, RRT\n",
    "\n",
    "from functools import partial\n",
    "\n",
    "DATA_PATH = '../../data'\n",
    "robot_urdf = '/urdf/panda_arm.urdf'\n",
    "\n",
    "%load_ext autoreload\n",
    "%autoreload 2\n",
    "\n",
    "np.set_printoptions(precision=4, suppress=True)"
   ]
  },
  {
   "cell_type": "markdown",
   "metadata": {},
   "source": [
    "### Setup Pybullet"
   ]
  },
  {
   "cell_type": "code",
   "execution_count": 7,
   "metadata": {},
   "outputs": [],
   "source": [
    "physics_client_id = p.connect(p.GUI)\n",
    "p.setPhysicsEngineParameter(enableFileCaching=0)\n",
    "p.setAdditionalSearchPath(pybullet_data.getDataPath())\n",
    "p.configureDebugVisualizer(p.COV_ENABLE_GUI,0)"
   ]
  },
  {
   "cell_type": "code",
   "execution_count": 29,
   "metadata": {},
   "outputs": [],
   "source": [
    "p.resetSimulation()"
   ]
  },
  {
   "cell_type": "markdown",
   "metadata": {},
   "source": [
    "### Setup Robot & environment"
   ]
  },
  {
   "cell_type": "code",
   "execution_count": 30,
   "metadata": {},
   "outputs": [],
   "source": [
    "robot_id = p.loadURDF(fileName=robot_urdf)\n",
    "dof = p.getNumJoints(robot_id)\n",
    "pb_joint_indices = np.arange(7)\n",
    "joint_limits = get_joint_limits(robot_id,pb_joint_indices)\n",
    "\n",
    "plane_id = p.loadURDF('plane.urdf')\n",
    "p.resetBasePositionAndOrientation(plane_id, (0,0,-.5), (0,0,0,1))\n",
    "\n",
    "table_square_id = p.loadURDF('table_square/table_square.urdf')\n",
    "p.resetBasePositionAndOrientation(table_square_id, (0.,0,-0.64), (0, 0, 0.7071068, 0.7071068))\n",
    "\n",
    "table_id = p.loadURDF('table/table.urdf')\n",
    "p.resetBasePositionAndOrientation(table_id, (.7,0,-0.5), (0, 0, 0.7071068, 0.7071068))"
   ]
  },
  {
   "cell_type": "code",
   "execution_count": 31,
   "metadata": {},
   "outputs": [],
   "source": [
    "shelf_urdf = 'urdf/bookshelf_simple_collision.urdf'\n",
    "shelf_id = p.loadURDF(fileName=shelf_urdf)\n",
    "p.resetBasePositionAndOrientation(shelf_id, (-0.6,0.6,-0.5), (0, 0, 0, 1.))\n",
    "\n",
    "#for visualizing the desired target\n",
    "_,_,ball_id = create_primitives(radius=0.05)"
   ]
  },
  {
   "cell_type": "code",
   "execution_count": 32,
   "metadata": {},
   "outputs": [],
   "source": [
    "set_q_std = partial(set_q,robot_id=robot_id, joint_indices=pb_joint_indices)"
   ]
  },
  {
   "cell_type": "markdown",
   "metadata": {},
   "source": [
    "***"
   ]
  },
  {
   "cell_type": "markdown",
   "metadata": {},
   "source": [
    "### Define the RRT"
   ]
  },
  {
   "cell_type": "code",
   "execution_count": 33,
   "metadata": {},
   "outputs": [],
   "source": [
    "rob_simple_sampler = sampler(joint_limits)\n",
    "rob_col_checker = col_checker(robot_id, pb_joint_indices, [ plane_id, shelf_id, table_id, table_square_id])\n",
    "rob_interpolator = interpolator()\n",
    "\n",
    "standard_rrt = RRT(7, rob_simple_sampler, rob_col_checker, rob_interpolator)"
   ]
  },
  {
   "cell_type": "markdown",
   "metadata": {},
   "source": [
    "### Part 1: Planning from a random init config to a random goal config"
   ]
  },
  {
   "cell_type": "markdown",
   "metadata": {},
   "source": [
    "#### Sample random init config"
   ]
  },
  {
   "cell_type": "code",
   "execution_count": 72,
   "metadata": {},
   "outputs": [],
   "source": [
    "col_status = True\n",
    "while col_status is True:\n",
    "    q_init = rob_simple_sampler.sample().flatten()\n",
    "    set_q_std(q_init)\n",
    "    col_status = rob_col_checker.check_collision(q_init)"
   ]
  },
  {
   "cell_type": "markdown",
   "metadata": {},
   "source": [
    "q_init adalah posisi awal robot. Posisi awal ditentukan secara random, tetapi berdasarkan joint limits yang ditentukan. Pada bagian ini, joint limits tidak ditentukan.<br>\n",
    "q_goal adalah posisi akhir robot. Posisi akhir ditentukan secara random juga. "
   ]
  },
  {
   "cell_type": "markdown",
   "metadata": {},
   "source": [
    "#### Sample random goal config"
   ]
  },
  {
   "cell_type": "code",
   "execution_count": 73,
   "metadata": {},
   "outputs": [],
   "source": [
    "col_status = True\n",
    "while col_status is True:\n",
    "    q_goal = rob_simple_sampler.sample().flatten()\n",
    "    set_q_std(q_goal)\n",
    "    col_status = rob_col_checker.check_collision(q_goal)\n",
    "    "
   ]
  },
  {
   "cell_type": "code",
   "execution_count": 74,
   "metadata": {},
   "outputs": [
    {
     "name": "stdout",
     "output_type": "stream",
     "text": [
      "[-1.6989 -0.4963 -0.6302 -3.0104 -2.7154  0.7485 -1.6761]\n",
      "[ 0.0752 -0.0358 -2.8425 -1.938   2.7343  1.0954 -2.3567]\n"
     ]
    }
   ],
   "source": [
    "print(q_init)\n",
    "print(q_goal)"
   ]
  },
  {
   "cell_type": "code",
   "execution_count": 24,
   "metadata": {},
   "outputs": [
    {
     "name": "stdout",
     "output_type": "stream",
     "text": [
      "Trying to reach the goal state...\n",
      "[array([ 2.2629,  0.6298,  2.0977, -2.2501,  1.2192,  1.3782, -0.9781]), array([ 2.3169,  0.6727,  2.1237, -2.2403,  1.2126,  1.4036, -1.0337])]\n",
      "[ 2.3169  0.6727  2.1237 -2.2403  1.2126  1.4036 -1.0337]\n",
      "Solution is found!\n",
      "Planning...\n"
     ]
    }
   ],
   "source": [
    "path = standard_rrt.plan(np.array(q_init), np.array(q_goal))"
   ]
  },
  {
   "cell_type": "code",
   "execution_count": 25,
   "metadata": {},
   "outputs": [],
   "source": [
    "vis_traj(path, set_q_std, dt = 0.1)"
   ]
  },
  {
   "cell_type": "markdown",
   "metadata": {},
   "source": [
    "### Part 2: Planning from an initial EE position to a goal EE position"
   ]
  },
  {
   "cell_type": "markdown",
   "metadata": {},
   "source": [
    "#### Get init config using IK"
   ]
  },
  {
   "cell_type": "code",
   "execution_count": 61,
   "metadata": {},
   "outputs": [],
   "source": [
    "col_status = True\n",
    "while col_status is True:\n",
    "    set_q_std(rob_simple_sampler.sample().flatten())\n",
    "    q_init = np.array(p.calculateInverseKinematics(robot_id, \n",
    "                                                   7,  \n",
    "                                                   (0., 0.5, 0.55)))\n",
    "    set_q_std(q_init)\n",
    "    col_status = rob_col_checker.check_collision(q_init)"
   ]
  },
  {
   "cell_type": "code",
   "execution_count": 62,
   "metadata": {},
   "outputs": [
    {
     "name": "stdout",
     "output_type": "stream",
     "text": [
      "[ 2.6673  0.7299 -2.1853 -2.2479 -2.6955  2.4893  0.4155]\n"
     ]
    }
   ],
   "source": [
    "print(q_init)"
   ]
  },
  {
   "cell_type": "markdown",
   "metadata": {},
   "source": [
    "#### Get goal config using IK"
   ]
  },
  {
   "cell_type": "code",
   "execution_count": 63,
   "metadata": {},
   "outputs": [],
   "source": [
    "col_status = True\n",
    "while col_status is True:\n",
    "    set_q_std(rob_simple_sampler.sample().flatten())\n",
    "    q_goal = np.array(p.calculateInverseKinematics(robot_id, 7,  (0., 0.5, 0.7)))\n",
    "    set_q_std(q_goal)\n",
    "    col_status = rob_col_checker.check_collision(q_goal)"
   ]
  },
  {
   "cell_type": "code",
   "execution_count": 64,
   "metadata": {},
   "outputs": [
    {
     "name": "stdout",
     "output_type": "stream",
     "text": [
      "[-3.5665 -0.5949 -2.0849 -1.7756  2.363   1.0254  1.5788]\n"
     ]
    }
   ],
   "source": [
    "print(q_goal)\n",
    "# p.getEulerFromQuaternion(q_goal)"
   ]
  },
  {
   "cell_type": "markdown",
   "metadata": {},
   "source": [
    "#### Plan"
   ]
  },
  {
   "cell_type": "code",
   "execution_count": 40,
   "metadata": {},
   "outputs": [
    {
     "name": "stdout",
     "output_type": "stream",
     "text": [
      "Trying to reach the goal state...\n",
      "[array([-1.4284, -1.3714,  3.0424, -2.1101, -2.9898,  0.8305,  2.0637]), array([-1.468 , -1.4036,  3.0661, -2.1114, -3.0632,  0.8036,  2.0607])]\n",
      "[-1.468  -1.4036  3.0661 -2.1114 -3.0632  0.8036  2.0607]\n",
      "Solution is found!\n",
      "Planning...\n"
     ]
    }
   ],
   "source": [
    "path = standard_rrt.plan(q_init, q_goal)"
   ]
  },
  {
   "cell_type": "code",
   "execution_count": 42,
   "metadata": {},
   "outputs": [
    {
     "name": "stdout",
     "output_type": "stream",
     "text": [
      "[[ 0.4103  0.2978  2.0535 -2.02    0.6807  2.2238  2.3741]\n",
      " [ 0.4437  0.2681  1.995  -2.0289  0.656   2.1985  2.3199]\n",
      " [ 0.4771  0.2383  1.9366 -2.0377  0.6314  2.1732  2.2657]\n",
      " [ 0.5105  0.2086  1.8782 -2.0466  0.6067  2.1479  2.2115]\n",
      " [ 0.4709  0.1763  1.902  -2.0479  0.5333  2.121   2.2085]\n",
      " [ 0.4313  0.1441  1.9257 -2.0492  0.4599  2.0942  2.2054]\n",
      " [ 0.3918  0.1118  1.9495 -2.0505  0.3865  2.0673  2.2024]\n",
      " [ 0.3522  0.0796  1.9732 -2.0518  0.3131  2.0404  2.1994]\n",
      " [ 0.3126  0.0473  1.997  -2.0531  0.2397  2.0135  2.1964]\n",
      " [ 0.2731  0.0151  2.0208 -2.0543  0.1663  1.9866  2.1934]\n",
      " [ 0.2335 -0.0171  2.0445 -2.0556  0.0929  1.9597  2.1904]\n",
      " [ 0.1939 -0.0494  2.0683 -2.0569  0.0195  1.9328  2.1874]\n",
      " [ 0.1543 -0.0816  2.092  -2.0582 -0.0539  1.9059  2.1843]\n",
      " [ 0.1148 -0.1139  2.1158 -2.0595 -0.1273  1.8791  2.1813]\n",
      " [ 0.0752 -0.1461  2.1395 -2.0608 -0.2007  1.8522  2.1783]\n",
      " [ 0.0356 -0.1784  2.1633 -2.0621 -0.2741  1.8253  2.1753]\n",
      " [-0.0039 -0.2106  2.1871 -2.0634 -0.3475  1.7984  2.1723]\n",
      " [-0.0435 -0.2428  2.2108 -2.0647 -0.4209  1.7715  2.1693]\n",
      " [-0.0831 -0.2751  2.2346 -2.066  -0.4943  1.7446  2.1663]\n",
      " [-0.1226 -0.3073  2.2583 -2.0673 -0.5677  1.7177  2.1632]\n",
      " [-0.1622 -0.3396  2.2821 -2.0686 -0.6411  1.6909  2.1602]\n",
      " [-0.2018 -0.3718  2.3059 -2.0699 -0.7145  1.664   2.1572]\n",
      " [-0.2413 -0.4041  2.3296 -2.0712 -0.7879  1.6371  2.1542]\n",
      " [-0.2809 -0.4363  2.3534 -2.0725 -0.8613  1.6102  2.1512]\n",
      " [-0.3205 -0.4686  2.3771 -2.0738 -0.9347  1.5833  2.1482]\n",
      " [-0.36   -0.5008  2.4009 -2.0751 -1.0081  1.5564  2.1451]\n",
      " [-0.3996 -0.533   2.4247 -2.0764 -1.0815  1.5295  2.1421]\n",
      " [-0.4392 -0.5653  2.4484 -2.0777 -1.1549  1.5026  2.1391]\n",
      " [-0.4787 -0.5975  2.4722 -2.079  -1.2283  1.4758  2.1361]\n",
      " [-0.5183 -0.6298  2.4959 -2.0803 -1.3017  1.4489  2.1331]\n",
      " [-0.5579 -0.662   2.5197 -2.0816 -1.3751  1.422   2.1301]\n",
      " [-0.5975 -0.6943  2.5435 -2.0829 -1.4485  1.3951  2.1271]\n",
      " [-0.637  -0.7265  2.5672 -2.0842 -1.5219  1.3682  2.124 ]\n",
      " [-0.6766 -0.7587  2.591  -2.0855 -1.5953  1.3413  2.121 ]\n",
      " [-0.7162 -0.791   2.6147 -2.0868 -1.6687  1.3144  2.118 ]\n",
      " [-0.7557 -0.8232  2.6385 -2.0881 -1.742   1.2875  2.115 ]\n",
      " [-0.7953 -0.8555  2.6622 -2.0894 -1.8154  1.2607  2.112 ]\n",
      " [-0.8349 -0.8877  2.686  -2.0907 -1.8888  1.2338  2.109 ]\n",
      " [-0.8744 -0.92    2.7098 -2.0919 -1.9622  1.2069  2.106 ]\n",
      " [-0.914  -0.9522  2.7335 -2.0932 -2.0356  1.18    2.1029]\n",
      " [-0.9536 -0.9845  2.7573 -2.0945 -2.109   1.1531  2.0999]\n",
      " [-0.9931 -1.0167  2.781  -2.0958 -2.1824  1.1262  2.0969]\n",
      " [-1.0327 -1.0489  2.8048 -2.0971 -2.2558  1.0993  2.0939]\n",
      " [-1.0723 -1.0812  2.8286 -2.0984 -2.3292  1.0724  2.0909]\n",
      " [-1.1118 -1.1134  2.8523 -2.0997 -2.4026  1.0456  2.0879]\n",
      " [-1.1514 -1.1457  2.8761 -2.101  -2.476   1.0187  2.0848]\n",
      " [-1.191  -1.1779  2.8998 -2.1023 -2.5494  0.9918  2.0818]\n",
      " [-1.2305 -1.2102  2.9236 -2.1036 -2.6228  0.9649  2.0788]\n",
      " [-1.2701 -1.2424  2.9474 -2.1049 -2.6962  0.938   2.0758]\n",
      " [-1.3097 -1.2746  2.9711 -2.1062 -2.7696  0.9111  2.0728]\n",
      " [-1.3493 -1.3069  2.9949 -2.1075 -2.843   0.8842  2.0698]\n",
      " [-1.3888 -1.3391  3.0186 -2.1088 -2.9164  0.8574  2.0668]\n",
      " [-1.4284 -1.3714  3.0424 -2.1101 -2.9898  0.8305  2.0637]\n",
      " [-1.468  -1.4036  3.0661 -2.1114 -3.0632  0.8036  2.0607]]\n"
     ]
    }
   ],
   "source": [
    "print(path)"
   ]
  },
  {
   "cell_type": "code",
   "execution_count": 41,
   "metadata": {},
   "outputs": [],
   "source": [
    "vis_traj(path, set_q_std)"
   ]
  },
  {
   "cell_type": "code",
   "execution_count": 6,
   "metadata": {},
   "outputs": [],
   "source": [
    "p.disconnect()"
   ]
  },
  {
   "cell_type": "code",
   "execution_count": null,
   "metadata": {},
   "outputs": [],
   "source": []
  }
 ],
 "metadata": {
  "kernelspec": {
   "display_name": "base",
   "language": "python",
   "name": "base"
  },
  "language_info": {
   "codemirror_mode": {
    "name": "ipython",
    "version": 3
   },
   "file_extension": ".py",
   "mimetype": "text/x-python",
   "name": "python",
   "nbconvert_exporter": "python",
   "pygments_lexer": "ipython3",
   "version": "3.9.7"
  }
 },
 "nbformat": 4,
 "nbformat_minor": 4
}
